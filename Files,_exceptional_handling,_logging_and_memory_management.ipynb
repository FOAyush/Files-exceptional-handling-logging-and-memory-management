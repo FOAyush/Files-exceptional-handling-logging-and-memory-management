{
  "nbformat": 4,
  "nbformat_minor": 0,
  "metadata": {
    "colab": {
      "provenance": []
    },
    "kernelspec": {
      "name": "python3",
      "display_name": "Python 3"
    },
    "language_info": {
      "name": "python"
    }
  },
  "cells": [
    {
      "cell_type": "markdown",
      "source": [
        "**1) What is the difference between interpreted and compiled languages?**\n",
        "\n",
        "**Ans)->** Compiled and interpreted languages differ primarily in how they are\n",
        "\n",
        "executed by a computer. In a compiled language, the entire source code is translated into machine code by a compiler before it is run. This machine code is then saved as an executable file, which can be run directly by the operating system without the need for the original source code or compiler. This approach typically results in faster execution because the program is already fully translated. Examples of compiled languages include C, C++, and Go.\n",
        "\n",
        "In contrast, interpreted languages are executed line by line at runtime by an interpreter. This means the source code is not converted into machine code ahead of time; instead, it is read and executed directly. While this makes development faster and more flexible—since changes can be tested immediately without recompiling—it generally results in slower execution. Python, JavaScript, and Ruby are common examples of interpreted languages.\n",
        "\n",
        "Some modern languages use a hybrid approach. For instance, Java is first compiled into bytecode, which is then interpreted or just-in-time compiled by the Java Virtual Machine (JVM). Similarly, Python source code is compiled into bytecode, which is then interpreted by the Python interpreter. This blending of techniques aims to balance performance and development convenience.\n",
        "\n",
        "\n",
        "**2) What is exception handling in Python?**\n",
        "\n",
        "**Ans)->** Exception handling in Python is a way to manage errors that occur during program execution, allowing the program to continue running or fail gracefully. When an error, or \"exception,\" occurs—such as dividing by zero, accessing a non-existent file, or using an undefined variable—Python normally stops the program and displays an error message. However, with exception handling, you can catch these exceptions using the `try` and `except` blocks. The code that might raise an exception is placed inside the `try` block, and the response to a specific error is written in the `except` block. This prevents the program from crashing and allows you to handle the error in a user-friendly or logical way. Optionally, a `finally` block can be used to define code that should run no matter what, such as closing a file or releasing resources. This makes your code more robust and reliable, especially when dealing with unpredictable inputs or external resources.\n",
        "\n",
        "\n",
        "**3) What is the purpose of the finally block in exception handling?**\n",
        "\n",
        "**Ans)->** The purpose of the `finally` block in Python's exception handling is to define a section of code that will **always execute**, regardless of whether an exception was raised or not. It is used to perform **cleanup actions** that must be executed under all circumstances—such as closing a file, releasing system resources, or terminating a database connection. Even if an exception occurs in the `try` block and is caught by an `except` block, or if no exception occurs at all, the code inside the `finally` block will still run. This ensures that critical cleanup operations are not skipped, which helps maintain the stability and reliability of the program.\n",
        "\n",
        "\n",
        "**4) What is logging in Python?**\n",
        "\n",
        "**Ans)->** Logging in Python is the process of recording messages that describe the events or state of a program during its execution. It is commonly used for **debugging, monitoring, and error tracking**. Instead of using `print()` statements, Python provides a built-in `logging` module that allows developers to write log messages at different severity levels, such as `DEBUG`, `INFO`, `WARNING`, `ERROR`, and `CRITICAL`. These messages can be output to various destinations like the console, files, or external logging systems. Logging makes it easier to understand what the program is doing at any point, especially when diagnosing problems or analyzing behavior in complex applications. By using structured logging, developers can maintain cleaner code and gain valuable insights into the performance and issues of their programs.\n",
        "\n",
        "\n",
        "**5) What is the significance of the __del__ method in Python? **\n",
        "\n",
        "**Ans)->** The `__del__` method in Python is a **special method** known as a **destructor**, and it is called **automatically when an object is about to be destroyed**—typically when there are no more references to it. The main purpose of the `__del__` method is to allow you to define cleanup actions, such as closing files, releasing network connections, or freeing other resources before the object is removed from memory. However, relying heavily on `__del__` is generally discouraged because its timing is unpredictable in some cases, especially with circular references or in environments with garbage collection. Instead, it's often better to use context managers (`with` statement) or explicit cleanup methods. Still, `__del__` can be useful for certain low-level tasks where resource management is essential and must be tied directly to an object’s lifecycle.\n",
        "\n",
        "\n",
        "**6) What is the difference between import and from ... import in Python?**\n",
        "\n",
        "**Ans)->** In Python, both `import` and `from ... import` are used to include code from modules, but they differ in how they give access to that code.\n",
        "\n",
        "Using `import` brings in the **entire module** and requires you to use the module name as a prefix when accessing its functions, classes, or variables. For example, if you write `import math`, you would need to call `math.sqrt(16)` to use the square root function.\n",
        "\n",
        "In contrast, `from ... import` allows you to **import specific parts** of a module directly into your namespace, so you don’t need to use the module name as a prefix. For instance, `from math import sqrt` lets you call `sqrt(16)` directly. This can make code cleaner and more readable when you're only using a few functions or classes from a module. However, it can also lead to **namespace conflicts** if different modules have functions or variables with the same name.\n",
        "\n",
        "In summary, `import` keeps things more organized and avoids naming conflicts, while `from ... import` provides convenience by allowing direct access to specific components.\n",
        "\n",
        "\n",
        "**7) How can you handle multiple exceptions in Python?**\n",
        "\n",
        "**Ans)->** In Python, multiple exceptions can be handled by either using separate `except` blocks for each exception type or by grouping multiple exceptions into a single `except` block using a tuple. When using separate `except` blocks, each block catches a specific exception and allows you to handle different errors with custom responses, which is useful for precise error management. Alternatively, if multiple exceptions should be handled in the same way, you can group them in one `except` clause by enclosing the exception types in parentheses. This helps reduce code duplication while still ensuring that your program handles potential errors gracefully. Both approaches improve the robustness of your code by preventing it from crashing when unexpected situations occur.\n",
        "\n",
        "\n",
        "**8) What is the purpose of the with statement when handling files in Python?**\n",
        "\n",
        "**Ans)->** The `with` statement in Python is used to handle files in a way that ensures they are properly opened and closed, even if errors occur during file operations. When you use `with` to open a file, it automatically takes care of closing the file once the block of code inside the `with` statement is finished, without needing to explicitly call the `close()` method. This makes the code cleaner, safer, and less error-prone because it guarantees that resources like file handles are released promptly, which is especially important to avoid resource leaks and potential data corruption. Overall, the `with` statement simplifies file handling by managing setup and cleanup tasks automatically.\n",
        "\n",
        "**9) What is the difference between multithreading and multiprocessing?**\n",
        "\n",
        "**Ans)->** Multithreading and multiprocessing are both techniques to achieve concurrent execution in programs, but they differ in how they use system resources and handle tasks.\n",
        "\n",
        "**Multithreading** involves running multiple threads within the same process. Threads share the same memory space, which makes communication between them easy and efficient. However, because of this shared memory and the Global Interpreter Lock (GIL) in Python, multithreading is best suited for I/O-bound tasks (like waiting for network or disk operations) rather than CPU-intensive work. Threads are lightweight and faster to create and switch between compared to processes.\n",
        "\n",
        "**Multiprocessing**, on the other hand, runs multiple processes simultaneously, each with its own independent memory space. This allows true parallelism, especially on multi-core processors, making multiprocessing ideal for CPU-bound tasks where tasks need to run simultaneously without interference. Processes are heavier than threads and require more overhead to communicate between them, usually through inter-process communication mechanisms.\n",
        "\n",
        "In summary, multithreading is efficient for tasks that spend time waiting (I/O-bound), while multiprocessing is better for performing multiple heavy computations in parallel (CPU-bound).\n",
        "\n",
        "\n",
        "**10) What are the advantages of using logging in a program?**\n",
        "\n",
        "**Ans)->** Using logging in a program offers several important advantages. First, it helps **track the flow of execution** and record significant events, which is invaluable for debugging and understanding how the program behaves, especially when issues arise. Logging also allows developers to **capture detailed information about errors and exceptions** without interrupting the program’s execution, making troubleshooting easier. Unlike simple print statements, logging can be configured to record messages at different severity levels (like DEBUG, INFO, WARNING, ERROR), enabling better control over what information is recorded and when. Additionally, logs can be saved to files or external systems, providing a **persistent history of the program’s activity** that can be analyzed later. This is especially useful for monitoring applications in production environments, helping maintain stability and performance over time. Overall, logging makes software more maintainable, easier to diagnose, and more professional.\n",
        "\n",
        "\n",
        "**11) What is memory management in Python?**\n",
        "\n",
        "**Ans)->** Memory management in Python refers to the way the Python interpreter **allocates, manages, and frees memory** used by programs during execution. Python handles most of this automatically through a system called **automatic memory management**, which includes **dynamic memory allocation** and **garbage collection**. When objects are created, Python allocates memory for them on the heap, and when objects are no longer needed (i.e., no references to them remain), Python’s garbage collector automatically reclaims that memory to be reused. This helps prevent memory leaks and makes programming easier because developers don’t need to manually allocate or free memory like in some other languages. Python uses reference counting as the primary method to track object usage, supplemented by a cyclic garbage collector to detect and clean up reference cycles. Overall, Python’s memory management system ensures efficient use of resources while abstracting complexity from the programmer.\n",
        "\n",
        "\n",
        "**12) What are the basic steps involved in exception handling in Python?**\n",
        "\n",
        "**Ans)->** Memory management in Python refers to the process by which the Python runtime allocates, tracks, and frees memory used by objects in a program. Python uses an automatic memory management system that includes a private heap containing all Python objects and data structures. The management of this heap is handled internally by the Python memory manager, which ensures efficient allocation and deallocation of memory. Additionally, Python employs a built-in garbage collector to identify and reclaim memory occupied by objects that are no longer in use, particularly through reference counting and cycle detection. This automatic approach helps developers by abstracting away manual memory handling, reducing the risk of memory leaks and other related issues while optimizing overall program performance.\n",
        "\n",
        "\n",
        "**13) Why is memory management important in Python?**\n",
        "\n",
        "**Ans)-> **Memory management is important in Python because it ensures that the program runs efficiently and reliably by properly handling the allocation and deallocation of memory. Without effective memory management, a program could consume excessive memory, leading to slow performance or even crashes due to running out of available memory. Python’s automatic memory management helps prevent common issues like memory leaks, where unused objects remain in memory unnecessarily, and it allows developers to focus on writing code without worrying about manually freeing memory. Overall, good memory management is crucial for maintaining the stability, speed, and scalability of Python applications.\n",
        "\n",
        "\n",
        "**14) What is the role of try and except in exception handling?**\n",
        "\n",
        "**Ans)->** The **`try`** and **`except`** blocks in Python are used for **exception handling**, which means managing errors that occur during the execution of a program. The **`try`** block contains the code that might raise an error, while the **`except`** block defines how to respond if a specific error occurs. When an exception happens inside the `try` block, Python stops executing that block and looks for a matching `except` block to handle the error gracefully, preventing the program from crashing. This mechanism allows developers to anticipate potential problems, handle them properly, and keep the program running smoothly.\n",
        "\n",
        "\n",
        "**15) How does Python's garbage collection system work?**\n",
        "\n",
        "**Ans)->** Python’s garbage collection system works primarily through **reference counting** combined with a **cycle detector** to manage memory automatically. Each object in Python has a reference count that tracks how many references or pointers exist to that object. When the reference count drops to zero—meaning no part of the program is using the object anymore—Python immediately frees the memory occupied by that object. However, reference counting alone can’t handle **reference cycles**, where objects reference each other, preventing their counts from ever reaching zero. To solve this, Python includes a cyclic garbage collector that periodically looks for groups of objects involved in such cycles and removes them if they are no longer reachable from the rest of the program. This two-part system helps Python efficiently reclaim memory and avoid leaks without requiring manual intervention from the programmer.\n",
        "\n",
        "\n",
        "**16) What is the purpose of the else block in exception handling?**\n",
        "\n",
        "**Ans)->** The **`else`** block in Python’s exception handling is an optional part that runs **only if no exceptions were raised** in the preceding `try` block. Its purpose is to include code that should execute **when the `try` block succeeds without errors**, helping to separate the normal execution flow from error handling. This makes the code cleaner and clearer by distinguishing between what happens when everything goes right (`else`), and what happens if an exception occurs (`except`). If an exception is raised, the `else` block is skipped entirely.\n",
        "\n",
        "\n",
        "**17) What are the common logging levels in Python?**\n",
        "\n",
        "**Ans)->** In Python, the logging module provides several common logging levels that indicate the severity of events and help manage which messages are recorded. These levels include **CRITICAL**, which signals very serious errors requiring immediate attention; **ERROR**, used for significant problems that affect the program but don’t necessarily stop it; **WARNING**, which highlights potential issues or unusual situations that aren’t errors; **INFO**, meant for general informational messages about the program’s normal operation; and **DEBUG**, which offers detailed information useful for diagnosing and troubleshooting during development. There is also **NOTSET**, which means no specific level has been assigned. By using these levels, developers can control the granularity of logged information and prioritize messages based on their importance.\n",
        "\n",
        "\n",
        "**18) What is the difference between os.fork() and multiprocessing in Python?**\n",
        "\n",
        "**Ans)->** The difference between `os.fork()` and the `multiprocessing` module in Python lies mainly in how they create and manage new processes.\n",
        "\n",
        "`os.fork()` is a low-level system call available on Unix-like operating systems that creates a new child process by duplicating the current process. The child process is almost an exact copy of the parent, including the memory space, and both processes continue executing independently from the point where the fork occurred. However, using `os.fork()` directly requires careful handling of shared resources and inter-process communication, and it’s not available on Windows.\n",
        "\n",
        "On the other hand, the `multiprocessing` module is a high-level, cross-platform Python library that abstracts process creation and management. It provides a convenient API to create and control multiple processes, share data safely, and use process pools, queues, and other synchronization primitives. `multiprocessing` works on both Unix and Windows, making it more portable and easier to use for concurrent programming compared to the more manual and system-dependent approach of `os.fork()`.\n",
        "\n",
        "In short, `os.fork()` is a low-level, Unix-specific method for process creation, while `multiprocessing` is a versatile, cross-platform Python module designed to simplify process-based parallelism.\n",
        "\n",
        "\n",
        "**19) What is the importance of closing a file in Python?**\n",
        "\n",
        "**Ans)->** Closing a file in Python is important because it ensures that all data is properly written and saved to the file, and it releases the system resources associated with the file. When a file is open, Python maintains a connection between the program and the file on disk, using memory buffers to improve performance. If the file isn’t closed, these buffers might not be flushed, leading to incomplete writes or data loss. Additionally, keeping files open unnecessarily can consume limited system resources like file descriptors, which may cause issues if many files are open simultaneously. Properly closing files helps maintain data integrity, frees up resources, and prevents potential errors in the program.\n",
        "\n",
        "\n",
        "**20) What is the difference between file.read() and file.readline() in Python?**\n",
        "\n",
        "**Ans)->** In Python, the difference between `file.read()` and `file.readline()` lies in how much data they read from a file. The `file.read()` method reads the entire content of the file (or a specified number of bytes) at once and returns it as a single string, moving the file cursor to the end after reading. In contrast, `file.readline()` reads the file one line at a time, returning a single line as a string each time it is called, including the newline character if present. This makes `readline()` useful for processing files line-by-line without loading the entire file into memory, while `read()` is better suited for reading the whole file content in one go.\n",
        "\n",
        "\n",
        "**21) What is the logging module in Python used for?**\n",
        "\n",
        "**Ans)->** The logging module in Python is used for tracking and recording events that happen during the execution of a program. It provides a flexible framework to log messages with different levels of severity, such as debug information, warnings, errors, and critical issues. By using this module, developers can monitor their applications, diagnose problems, and keep a record of important runtime information without using print statements. The logging module supports outputting logs to various destinations like the console, files, or remote servers, and it allows customization of log formats and filtering based on severity levels, making it an essential tool for debugging and maintaining Python applications.\n",
        "\n",
        "\n",
        "**22) What is the os module in Python used for in file handling ?**\n",
        "\n",
        "**Ans)->** The `os` module in Python is used in file handling to interact with the operating system and perform tasks related to files and directories. It provides functions to create, delete, rename, and manipulate files and directories, as well as to navigate the file system. For example, you can use `os.mkdir()` to create a new directory, `os.remove()` to delete a file, `os.rename()` to rename files or directories, and `os.listdir()` to list the contents of a directory. Additionally, the `os` module allows you to get file properties, check for file existence, and work with file paths in a platform-independent way. Overall, it offers essential tools to manage files and directories beyond simple reading and writing operations.\n",
        "\n",
        "\n",
        "**23) What are the challenges associated with memory management in Python?**\n",
        "\n",
        "**Ans)->** Challenges associated with memory management in Python include dealing with **reference cycles**, where objects reference each other and prevent their memory from being freed automatically by reference counting. Although Python’s garbage collector can detect and clean up these cycles, it can introduce performance overhead and complexity. Another challenge is **memory fragmentation**, which can occur when many objects of varying sizes are created and destroyed, leading to inefficient use of memory. Additionally, managing memory efficiently in **multi-threaded or multi-process environments** can be tricky, as improper handling might cause race conditions or leaks. Python’s automatic memory management also means developers have less direct control over when and how memory is freed, which can sometimes lead to unexpected memory usage patterns or difficulties in optimizing resource-intensive applications.\n",
        "\n",
        "\n",
        "**24) How do you raise an exception manually in Python?**\n",
        "\n",
        "**Ans)->** In Python, you can raise an exception manually using the `raise` statement followed by an exception class or an instance of an exception. For example, to raise a built-in exception like `ValueError`, you can write `raise ValueError(\"Invalid value\")`. This immediately stops the normal flow of the program and signals that an error has occurred, which can then be caught and handled by an `except` block. You can also raise custom exceptions by defining your own exception classes and raising them in the same way. This manual raising of exceptions is useful for enforcing rules, validating input, or signaling unexpected conditions in your code.\n",
        "\n",
        "\n",
        "**25) Why is it important to use multithreading in certain applications?**\n",
        "\n",
        "**Ans)->** Multithreading is important in certain applications because it allows multiple threads to run concurrently within the same program, improving performance and responsiveness. This is especially useful for tasks that involve waiting for external resources, such as reading from a file, network operations, or user input, where threads can continue working on other tasks while waiting. By using multithreading, applications can make better use of CPU resources, keep user interfaces responsive, and handle multiple operations simultaneously without blocking the main program flow. It’s particularly valuable in I/O-bound applications and scenarios requiring parallelism to enhance efficiency and user experience.\n"
      ],
      "metadata": {
        "id": "DxG3HDda0cu_"
      }
    },
    {
      "cell_type": "code",
      "execution_count": 1,
      "metadata": {
        "id": "mhkjJpHC0ZFx"
      },
      "outputs": [],
      "source": [
        "#1 How can you open a file for writing in Python and write a string to it\n",
        "\n",
        "with open(\"example.txt\", \"w\") as file:\n",
        "    file.write(\"Hello, this is a sample string.\")\n"
      ]
    },
    {
      "cell_type": "code",
      "source": [
        "#2 Write a Python program to read the contents of a file and print each line\n",
        "\n",
        "with open(\"example.txt\", \"r\") as file:\n",
        "\n",
        "    for line in file:\n",
        "        print(line, end=\"\")\n"
      ],
      "metadata": {
        "id": "qN3vGQFfB7Vs"
      },
      "execution_count": null,
      "outputs": []
    },
    {
      "cell_type": "code",
      "source": [
        "#3 How would you handle a case where the file doesn't exist while trying to open it for reading\n",
        "\n",
        "try:\n",
        "    with open(\"example.txt\", \"r\") as file:\n",
        "        for line in file:\n",
        "            print(line, end=\"\")\n",
        "except FileNotFoundError:\n",
        "    print(\"Error: The file does not exist.\")\n"
      ],
      "metadata": {
        "id": "kDU_xU3YCJ2B"
      },
      "execution_count": null,
      "outputs": []
    },
    {
      "cell_type": "code",
      "source": [
        "#4 Write a Python script that reads from one file and writes its content to another file\n",
        "\n",
        "\n",
        "source_file = \"source.txt\"\n",
        "destination_file = \"destination.txt\"\n",
        "\n",
        "try:\n",
        "\n",
        "    with open(source_file, \"r\") as src, open(destination_file, \"w\") as dest:\n",
        "      for line in src:\n",
        "            dest.write(line)\n",
        "    print(\"File copied successfully.\")\n",
        "except FileNotFoundError:\n",
        "    print(f\"Error: '{source_file}' does not exist.\")\n",
        "except IOError as e:\n",
        "    print(f\"I/O error occurred: {e}\")\n",
        "\n"
      ],
      "metadata": {
        "colab": {
          "base_uri": "https://localhost:8080/"
        },
        "id": "k_OzSde5ClYZ",
        "outputId": "1519a4de-761a-4fd6-fe1c-807e2bb6e4c1"
      },
      "execution_count": 8,
      "outputs": [
        {
          "output_type": "stream",
          "name": "stdout",
          "text": [
            "Error: 'source.txt' does not exist.\n"
          ]
        }
      ]
    },
    {
      "cell_type": "code",
      "source": [
        "#5 How would you catch and handle division by zero error in Python\n",
        "\n",
        "try:\n",
        "    numerator = 10\n",
        "    denominator = 0\n",
        "    result = numerator / denominator\n",
        "    print(\"Result:\", result)\n",
        "except ZeroDivisionError:\n",
        "    print(\"Error: Cannot divide by zero.\")\n"
      ],
      "metadata": {
        "colab": {
          "base_uri": "https://localhost:8080/"
        },
        "id": "qH_WeNDJDCwl",
        "outputId": "537f6a6e-5c84-4a3b-bd25-b25e5a3485d2"
      },
      "execution_count": 9,
      "outputs": [
        {
          "output_type": "stream",
          "name": "stdout",
          "text": [
            "Error: Cannot divide by zero.\n"
          ]
        }
      ]
    },
    {
      "cell_type": "code",
      "source": [
        "#6 Write a Python program that logs an error message to a log file when a division by zero exception occurs\n",
        "\n",
        "import logging\n",
        "\n",
        "logging.basicConfig(filename='error.log', level=logging.ERROR,\n",
        "                    format='%(asctime)s - %(levelname)s - %(message)s')\n",
        "\n",
        "try:\n",
        "    numerator = 10\n",
        "    denominator = 0\n",
        "    result = numerator / denominator\n",
        "    print(\"Result:\", result)\n",
        "except ZeroDivisionError:\n",
        "    logging.error(\"Attempted to divide by zero.\")\n",
        "    print(\"An error occurred. Check 'error.log' for details.\")\n"
      ],
      "metadata": {
        "colab": {
          "base_uri": "https://localhost:8080/"
        },
        "id": "5wmHKFzSDQcC",
        "outputId": "0b0f721c-1055-42db-da48-aa3b562c68af"
      },
      "execution_count": 10,
      "outputs": [
        {
          "output_type": "stream",
          "name": "stderr",
          "text": [
            "ERROR:root:Attempted to divide by zero.\n"
          ]
        },
        {
          "output_type": "stream",
          "name": "stdout",
          "text": [
            "An error occurred. Check 'error.log' for details.\n"
          ]
        }
      ]
    },
    {
      "cell_type": "code",
      "source": [
        "#7 How do you log information at different levels (INFO, ERROR, WARNING) in Python using the logging module\n",
        "\n",
        "import logging\n",
        "\n",
        "\n",
        "logging.basicConfig(\n",
        "    filename='app.log',\n",
        "    level=logging.DEBUG,\n",
        "    format='%(asctime)s - %(levelname)s - %(message)s'\n",
        ")\n",
        "\n",
        "\n",
        "logging.debug(\"This is a DEBUG message\")\n",
        "logging.info(\"This is an INFO message\")\n",
        "logging.warning(\"This is a WARNING message\")\n",
        "logging.error(\"This is an ERROR message\")\n",
        "logging.critical(\"This is a CRITICAL message\")\n"
      ],
      "metadata": {
        "colab": {
          "base_uri": "https://localhost:8080/"
        },
        "id": "RlhHMYE1DzYF",
        "outputId": "e3482485-c421-49cc-aae2-f7ba240d790e"
      },
      "execution_count": 11,
      "outputs": [
        {
          "output_type": "stream",
          "name": "stderr",
          "text": [
            "WARNING:root:This is a WARNING message\n",
            "ERROR:root:This is an ERROR message\n",
            "CRITICAL:root:This is a CRITICAL message\n"
          ]
        }
      ]
    },
    {
      "cell_type": "code",
      "source": [
        "#8 Write a program to handle a file opening error using exception handling\n",
        "\n",
        "filename = \"nonexistent_file.txt\"\n",
        "\n",
        "try:\n",
        "    with open(filename, \"r\") as file:\n",
        "        content = file.read()\n",
        "        print(content)\n",
        "except FileNotFoundError:\n",
        "    print(f\"Error: The file '{filename}' was not found.\")\n",
        "except IOError as e:\n",
        "    print(f\"An I/O error occurred: {e}\")\n"
      ],
      "metadata": {
        "colab": {
          "base_uri": "https://localhost:8080/"
        },
        "id": "x65DjvSzEH8-",
        "outputId": "2b0fd25a-7186-49dc-d82b-b74450287ad4"
      },
      "execution_count": 12,
      "outputs": [
        {
          "output_type": "stream",
          "name": "stdout",
          "text": [
            "Error: The file 'nonexistent_file.txt' was not found.\n"
          ]
        }
      ]
    },
    {
      "cell_type": "code",
      "source": [
        "#9 How can you read a file line by line and store its content in a list in Python\n",
        "\n",
        "lines = []\n",
        "\n",
        "with open(\"example.txt\", \"r\") as file:\n",
        "    for line in file:\n",
        "        lines.append(line.strip())\n",
        "\n",
        "print(lines)\n"
      ],
      "metadata": {
        "id": "4ut2Eu7YEZBp"
      },
      "execution_count": null,
      "outputs": []
    },
    {
      "cell_type": "code",
      "source": [
        "#10 How can you append data to an existing file in Python\n",
        "\n",
        "\n",
        "with open(\"example.txt\", \"a\") as file:\n",
        "    file.write(\"This is a new line of text.\\n\")\n"
      ],
      "metadata": {
        "id": "S2AkfA1NEsQY"
      },
      "execution_count": null,
      "outputs": []
    },
    {
      "cell_type": "code",
      "source": [
        "#11 Write a Python program that uses a try-except block to handle an error when attempting to access a dictionary key that doesn't exist\n",
        "\n",
        "my_dict = {\"name\": \"Alice\", \"age\": 30}\n",
        "\n",
        "try:\n",
        "\n",
        "    print(\"City:\", my_dict[\"city\"])\n",
        "except KeyError:\n",
        "    print(\"Error: The key 'city' does not exist in the dictionary.\")\n"
      ],
      "metadata": {
        "colab": {
          "base_uri": "https://localhost:8080/"
        },
        "id": "SXXr560oE3ju",
        "outputId": "67c39bf1-16ca-46a4-a9de-b6bd461ab21b"
      },
      "execution_count": 14,
      "outputs": [
        {
          "output_type": "stream",
          "name": "stdout",
          "text": [
            "Error: The key 'city' does not exist in the dictionary.\n"
          ]
        }
      ]
    },
    {
      "cell_type": "code",
      "source": [
        "#12 Write a program that demonstrates using multiple except blocks to handle different types of exceptions\n",
        "\n",
        "try:\n",
        "    num1 = int(input(\"Enter the first number: \"))\n",
        "    num2 = int(input(\"Enter the second number: \"))\n",
        "    result = num1 / num2\n",
        "    print(\"Result:\", result)\n",
        "except ZeroDivisionError:\n",
        "    print(\"Error: You cannot divide by zero.\")\n",
        "except ValueError:\n",
        "    print(\"Error: Please enter a valid integer.\")\n",
        "except Exception as e:\n",
        "    print(f\"An unexpected error occurred: {e}\")\n"
      ],
      "metadata": {
        "colab": {
          "base_uri": "https://localhost:8080/"
        },
        "id": "nrAc1GLTFBSZ",
        "outputId": "3e234def-e9d6-407a-9595-49fe538558f1"
      },
      "execution_count": 15,
      "outputs": [
        {
          "output_type": "stream",
          "name": "stdout",
          "text": [
            "Enter the first number: 5\n",
            "Enter the second number: 2\n",
            "Result: 2.5\n"
          ]
        }
      ]
    },
    {
      "cell_type": "code",
      "source": [
        "#13 How would you check if a file exists before attempting to read it in Python\n",
        "\n",
        "import os\n",
        "\n",
        "filename = \"example.txt\"\n",
        "\n",
        "if os.path.exists(filename):\n",
        "    with open(filename, \"r\") as file:\n",
        "        content = file.read()\n",
        "        print(content)\n",
        "else:\n",
        "    print(f\"The file '{filename}' does not exist.\")\n"
      ],
      "metadata": {
        "id": "FtWtOzawFPRf"
      },
      "execution_count": null,
      "outputs": []
    },
    {
      "cell_type": "code",
      "source": [
        "#14 Write a program that uses the logging module to log both informational and error messages\n",
        "\n",
        "import logging\n",
        "\n",
        "\n",
        "logging.basicConfig(\n",
        "    filename='app.log',\n",
        "    level=logging.INFO,\n",
        "    format='%(asctime)s - %(levelname)s - %(message)s'\n",
        ")\n",
        "\n",
        "def divide_numbers(a, b):\n",
        "    logging.info(f\"Attempting to divide {a} by {b}\")\n",
        "    try:\n",
        "        result = a / b\n",
        "        logging.info(f\"Division successful: {result}\")\n",
        "        return result\n",
        "    except ZeroDivisionError:\n",
        "        logging.error(\"Error: Division by zero attempted.\")\n",
        "        return None\n",
        "\n",
        "divide_numbers(10, 2)\n",
        "divide_numbers(10, 0)\n"
      ],
      "metadata": {
        "colab": {
          "base_uri": "https://localhost:8080/"
        },
        "id": "omth73L1Fi9b",
        "outputId": "e355f3f7-72e0-415a-85b1-42fb8b6ab6de"
      },
      "execution_count": 17,
      "outputs": [
        {
          "output_type": "stream",
          "name": "stderr",
          "text": [
            "ERROR:root:Error: Division by zero attempted.\n"
          ]
        }
      ]
    },
    {
      "cell_type": "code",
      "source": [
        "#15 Write a Python program that prints the content of a file and handles the case when the file is empty\n",
        "\n",
        "import os\n",
        "\n",
        "def write_numbers_to_file(numbers_list, filename=\"numbers.txt\"):\n",
        "    \"\"\"\n",
        "    Writes a list of numbers to a specified file, with each number\n",
        "    on a new line. This helper function is included to create test files.\n",
        "\n",
        "    Args:\n",
        "        numbers_list (list): A list of numbers (integers or floats).\n",
        "        filename (str): The name of the file to write to.\n",
        "    \"\"\"\n",
        "    try:\n",
        "        with open(filename, 'w') as file:\n",
        "            for number in numbers_list:\n",
        "                file.write(str(number) + '\\n')\n",
        "        print(f\"Helper: Successfully wrote {len(numbers_list)} numbers to '{filename}'.\")\n",
        "    except IOError as e:\n",
        "        print(f\"Helper Error: Could not write to file '{filename}': {e}\")\n",
        "\n",
        "def read_and_print_file(filename):\n",
        "    \"\"\"\n",
        "    Reads the content of a specified file and prints it to the console.\n",
        "    Handles cases where the file does not exist or is empty.\n",
        "\n",
        "    Args:\n",
        "        filename (str): The path to the file to read.\n",
        "    \"\"\"\n",
        "    print(f\"\\n--- Reading file: '{filename}' ---\")\n",
        "    try:\n",
        "        # Open the file in read mode ('r')\n",
        "        with open(filename, 'r') as file:\n",
        "            content = file.read() # Read the entire content of the file\n",
        "\n",
        "            if not content: # Check if the content string is empty\n",
        "                print(f\"The file '{filename}' is empty.\")\n",
        "            else:\n",
        "                print(\"File content:\")\n",
        "                print(content)\n",
        "    except FileNotFoundError:\n",
        "        print(f\"Error: The file '{filename}' was not found.\")\n",
        "    except IOError as e:\n",
        "        # Catch other I/O related errors (e.g., permission denied)\n",
        "        print(f\"Error reading file '{filename}': {e}\")\n",
        "    except Exception as e:\n",
        "        # Catch any other unexpected errors\n",
        "        print(f\"An unexpected error occurred while reading '{filename}': {e}\")\n",
        "    print(f\"--- Finished reading '{filename}' ---\")\n",
        "\n",
        "\n",
        "if __name__ == \"__main__\":\n",
        "    # --- Setup: Create test files using the helper function ---\n",
        "    test_file_with_content = \"my_content_file.txt\"\n",
        "    test_empty_file = \"my_empty_file.txt\"\n",
        "    test_non_existent_file = \"non_existent_file.txt\"\n",
        "\n",
        "    # Create a file with content\n",
        "    write_numbers_to_file([10, 20, 30, 40, 50], test_file_with_content)\n",
        "\n",
        "    # Create an empty file\n",
        "    # We write an empty list to ensure the file is created but remains empty\n",
        "    write_numbers_to_file([], test_empty_file)\n",
        "\n",
        "    # --- Demonstrate the read_and_print_file function ---\n",
        "\n",
        "    # 1. Read a file with content\n",
        "    read_and_print_file(test_file_with_content)\n",
        "\n",
        "    # 2. Read an empty file\n",
        "    read_and_print_file(test_empty_file)\n",
        "\n",
        "    # 3. Try to read a non-existent file\n",
        "    read_and_print_file(test_non_existent_file)\n",
        "\n",
        "    # Clean up the created test files (optional)\n",
        "    if os.path.exists(test_file_with_content):\n",
        "        os.remove(test_file_with_content)\n",
        "        print(f\"\\nCleaned up: Removed '{test_file_with_content}'\")\n",
        "    if os.path.exists(test_empty_file):\n",
        "        os.remove(test_empty_file)\n",
        "        print(f\"Cleaned up: Removed '{test_empty_file}'\")"
      ],
      "metadata": {
        "colab": {
          "base_uri": "https://localhost:8080/"
        },
        "id": "DRXsa3qZFwTc",
        "outputId": "e54c8c60-e949-44e4-fc39-d00a3fb0420e"
      },
      "execution_count": 29,
      "outputs": [
        {
          "output_type": "stream",
          "name": "stdout",
          "text": [
            "Helper: Successfully wrote 5 numbers to 'my_content_file.txt'.\n",
            "Helper: Successfully wrote 0 numbers to 'my_empty_file.txt'.\n",
            "\n",
            "--- Reading file: 'my_content_file.txt' ---\n",
            "File content:\n",
            "10\n",
            "20\n",
            "30\n",
            "40\n",
            "50\n",
            "\n",
            "--- Finished reading 'my_content_file.txt' ---\n",
            "\n",
            "--- Reading file: 'my_empty_file.txt' ---\n",
            "The file 'my_empty_file.txt' is empty.\n",
            "--- Finished reading 'my_empty_file.txt' ---\n",
            "\n",
            "--- Reading file: 'non_existent_file.txt' ---\n",
            "Error: The file 'non_existent_file.txt' was not found.\n",
            "--- Finished reading 'non_existent_file.txt' ---\n",
            "\n",
            "Cleaned up: Removed 'my_content_file.txt'\n",
            "Cleaned up: Removed 'my_empty_file.txt'\n"
          ]
        }
      ]
    },
    {
      "cell_type": "code",
      "source": [
        "#16 Demonstrate how to use memory profiling to check the memory usage of a small program\n",
        "\n",
        "# memory_example.py\n",
        "\n",
        "@profile\n",
        "def create_list_of_numbers(n):\n",
        "    \"\"\"\n",
        "    Creates a list of numbers from 0 to n-1.\n",
        "    \"\"\"\n",
        "    my_list = []\n",
        "    for i in range(n):\n",
        "        my_list.append(i)\n",
        "    return my_list\n",
        "\n",
        "@profile\n",
        "def main():\n",
        "    print(\"Starting main function...\")\n",
        "    list1 = create_list_of_numbers(100000)  # A relatively small list\n",
        "    list2 = create_list_of_numbers(500000)  # A larger list\n",
        "    list3 = create_list_of_numbers(200000)\n",
        "    print(\"Lists created.\")\n",
        "    # Keep references to the lists so they aren't immediately garbage collected\n",
        "    _ = list1\n",
        "    _ = list2\n",
        "    _ = list3\n",
        "    print(\"Exiting main function.\")\n",
        "\n",
        "if __name__ == \"__main__\":\n",
        "    main()"
      ],
      "outputs": [],
      "execution_count": null,
      "metadata": {
        "id": "4Q3BCtxtH-97"
      }
    },
    {
      "cell_type": "code",
      "source": [
        "#17 Write a Python program to create and write a list of numbers to a file, one number per line\n",
        "\n",
        "def write_numbers_to_file(numbers_list, filename=\"numbers.txt\"):\n",
        "    \"\"\"\n",
        "    Writes a list of numbers to a specified file, with each number\n",
        "    on a new line.\n",
        "\n",
        "    Args:\n",
        "        numbers_list (list): A list of numbers (integers or floats).\n",
        "        filename (str): The name of the file to write to. Defaults to \"numbers.txt\".\n",
        "    \"\"\"\n",
        "    try:\n",
        "        # Open the file in write mode ('w').\n",
        "        # If the file doesn't exist, it will be created.\n",
        "        # If it exists, its content will be truncated (overwritten).\n",
        "        with open(filename, 'w') as file:\n",
        "            for number in numbers_list:\n",
        "                # Convert the number to a string and add a newline character\n",
        "                file.write(str(number) + '\\n')\n",
        "        print(f\"Successfully wrote {len(numbers_list)} numbers to '{filename}'.\")\n",
        "    except IOError as e:\n",
        "        print(f\"Error writing to file '{filename}': {e}\")\n",
        "    except Exception as e:\n",
        "        print(f\"An unexpected error occurred: {e}\")\n",
        "\n",
        "if __name__ == \"__main__\":\n",
        "    # Example usage:\n",
        "    my_numbers = [1, 2, 3, 4, 5, 6, 7, 8, 9, 10, 11, 12, 13, 14, 15]\n",
        "    another_list = [100, 200.5, 300, 400.75, 500]\n",
        "    empty_list = []\n",
        "\n",
        "    # Write the first list to \"numbers.txt\"\n",
        "    write_numbers_to_file(my_numbers)\n",
        "\n",
        "    # Write the second list to a different file\n",
        "    write_numbers_to_file(another_list, \"more_numbers.txt\")\n",
        "\n",
        "    # Demonstrate with an empty list\n",
        "    write_numbers_to_file(empty_list, \"empty_numbers.txt\")\n",
        "\n",
        "    # You can also generate a list of numbers dynamically\n",
        "    large_list = list(range(1, 1001)) # Numbers from 1 to 1000\n",
        "    write_numbers_to_file(large_list, \"large_list_of_numbers.txt\")\n",
        "\n",
        "    print(\"\\nTo view the content, open the generated files (e.g., 'numbers.txt') in a text editor.\")"
      ],
      "outputs": [
        {
          "output_type": "stream",
          "name": "stdout",
          "text": [
            "Successfully wrote 15 numbers to 'numbers.txt'.\n",
            "Successfully wrote 5 numbers to 'more_numbers.txt'.\n",
            "Successfully wrote 0 numbers to 'empty_numbers.txt'.\n",
            "Successfully wrote 1000 numbers to 'large_list_of_numbers.txt'.\n",
            "\n",
            "To view the content, open the generated files (e.g., 'numbers.txt') in a text editor.\n"
          ]
        }
      ],
      "execution_count": 28,
      "metadata": {
        "outputId": "fb9a7773-6f2f-40cb-9b76-d430c46f7d29",
        "colab": {
          "base_uri": "https://localhost:8080/"
        },
        "id": "dJWE5sadHqms"
      }
    },
    {
      "cell_type": "code",
      "source": [
        "#18 How would you implement a basic logging setup that logs to a file with rotation after 1MB\n",
        "\n",
        "import logging\n",
        "from logging.handlers import RotatingFileHandler\n",
        "\n",
        "logger = logging.getLogger('my_logger')\n",
        "logger.setLevel(logging.DEBUG)\n",
        "\n",
        "handler = RotatingFileHandler('app.log', maxBytes=1_000_000, backupCount=5)\n",
        "handler.setLevel(logging.DEBUG)\n",
        "\n",
        "formatter = logging.Formatter('%(asctime)s - %(levelname)s - %(message)s')\n",
        "handler.setFormatter(formatter)\n",
        "\n",
        "logger.addHandler(handler)\n",
        "\n",
        "logger.debug('This is a debug message')\n",
        "logger.info('This is an info message')\n"
      ],
      "metadata": {
        "colab": {
          "base_uri": "https://localhost:8080/"
        },
        "id": "FlxOEYKxJuUs",
        "outputId": "4edfe8e7-a296-4ed0-e780-aa382a51c5be"
      },
      "execution_count": 32,
      "outputs": [
        {
          "output_type": "stream",
          "name": "stderr",
          "text": [
            "DEBUG:my_logger:This is a debug message\n",
            "INFO:my_logger:This is an info message\n"
          ]
        }
      ]
    },
    {
      "cell_type": "code",
      "source": [
        "#19 Write a program that handles both IndexError and KeyError using a try-except block\n",
        "\n",
        "def access_elements():\n",
        "    my_list = [10, 20, 30]\n",
        "    my_dict = {'a': 1, 'b': 2}\n",
        "\n",
        "    try:\n",
        "\n",
        "        print(my_list[5])\n",
        "\n",
        "        print(my_dict['c'])\n",
        "\n",
        "    except IndexError:\n",
        "        print(\"Caught an IndexError: List index out of range.\")\n",
        "\n",
        "    except KeyError:\n",
        "        print(\"Caught a KeyError: Key not found in dictionary.\")\n",
        "\n",
        "access_elements()\n"
      ],
      "metadata": {
        "colab": {
          "base_uri": "https://localhost:8080/"
        },
        "id": "BUZLIyQcKKmp",
        "outputId": "2508e872-28d1-4d9d-b6df-de232de0dc1e"
      },
      "execution_count": 33,
      "outputs": [
        {
          "output_type": "stream",
          "name": "stdout",
          "text": [
            "Caught an IndexError: List index out of range.\n"
          ]
        }
      ]
    },
    {
      "cell_type": "code",
      "source": [
        "#20 How would you open a file and read its contents using a context manager in Python\n",
        "\n",
        "\n",
        "with open('filename.txt', 'r') as file:\n",
        "    contents = file.read()\n",
        "    print(contents)"
      ],
      "metadata": {
        "id": "Zbly0tm3KZ01"
      },
      "execution_count": null,
      "outputs": []
    },
    {
      "cell_type": "code",
      "source": [
        "#21 Write a Python program that reads a file and prints the number of occurrences of a specific word\n",
        "\n",
        "def count_word_occurrences(filename, target_word):\n",
        "    try:\n",
        "        with open(filename, 'r') as file:\n",
        "            contents = file.read()\n",
        "\n",
        "        contents_lower = contents.lower()\n",
        "        target_word_lower = target_word.lower()\n",
        "\n",
        "\n",
        "        words = contents_lower.split()\n",
        "\n",
        "\n",
        "        count = words.count(target_word_lower)\n",
        "        print(f\"The word '{target_word}' occurs {count} times in the file '{filename}'.\")\n",
        "    except FileNotFoundError:\n",
        "        print(f\"Error: The file '{filename}' does not exist.\")\n",
        "\n",
        "count_word_occurrences('example.txt', 'Python')\n"
      ],
      "metadata": {
        "colab": {
          "base_uri": "https://localhost:8080/"
        },
        "id": "ivdrZEE9KuPq",
        "outputId": "b8848468-cc0e-4d33-eaff-4d6cae6c14c2"
      },
      "execution_count": 35,
      "outputs": [
        {
          "output_type": "stream",
          "name": "stdout",
          "text": [
            "The word 'Python' occurs 0 times in the file 'example.txt'.\n"
          ]
        }
      ]
    },
    {
      "cell_type": "code",
      "source": [
        "#22 How can you check if a file is empty before attempting to read its contents\n",
        "\n",
        "import os\n",
        "\n",
        "filename = 'example.txt'\n",
        "\n",
        "if os.path.getsize(filename) == 0:\n",
        "    print(\"The file is empty.\")\n",
        "else:\n",
        "    with open(filename, 'r') as file:\n",
        "        contents = file.read()\n",
        "        print(contents)\n"
      ],
      "metadata": {
        "id": "ra1z1QMmK6Cb"
      },
      "execution_count": null,
      "outputs": []
    },
    {
      "cell_type": "code",
      "source": [
        "#23 Write a Python program that writes to a log file when an error occurs during file handling\n",
        "\n",
        "import logging\n",
        "\n",
        "logging.basicConfig(\n",
        "    filename='error.log',\n",
        "    level=logging.ERROR,\n",
        "    format='%(asctime)s - %(levelname)s - %(message)s'\n",
        ")\n",
        "\n",
        "def read_file(filename):\n",
        "    try:\n",
        "        with open(filename, 'r') as file:\n",
        "            contents = file.read()\n",
        "            print(contents)\n",
        "    except Exception as e:\n",
        "        logging.error(f\"Error occurred while handling file '{filename}': {e}\")\n",
        "        print(f\"An error occurred. Check 'error.log' for details.\")\n",
        "\n",
        "read_file('non_existent_file.txt')\n"
      ],
      "metadata": {
        "colab": {
          "base_uri": "https://localhost:8080/"
        },
        "id": "cw7FxIwyLEAv",
        "outputId": "ddacf8f3-dfc5-42db-99e8-b3c09face76f"
      },
      "execution_count": 37,
      "outputs": [
        {
          "output_type": "stream",
          "name": "stderr",
          "text": [
            "ERROR:root:Error occurred while handling file 'non_existent_file.txt': [Errno 2] No such file or directory: 'non_existent_file.txt'\n"
          ]
        },
        {
          "output_type": "stream",
          "name": "stdout",
          "text": [
            "An error occurred. Check 'error.log' for details.\n"
          ]
        }
      ]
    }
  ]
}